{
 "cells": [
  {
   "attachments": {},
   "cell_type": "markdown",
   "metadata": {},
   "source": [
    "# 可视化模型的 Scale&Shift 参数\n",
    "## ViT-b16"
   ]
  },
  {
   "cell_type": "code",
   "execution_count": 3,
   "metadata": {},
   "outputs": [
    {
     "name": "stdout",
     "output_type": "stream",
     "text": [
      "/home/zxy/SSF\n"
     ]
    }
   ],
   "source": [
    "%cd .."
   ]
  },
  {
   "cell_type": "code",
   "execution_count": 4,
   "metadata": {},
   "outputs": [],
   "source": [
    "import sys\n",
    "import os\n",
    "PROJECT_ROOT=\"/home/wyh/PEFT/SSF\"\n",
    "PROJECT_ROOT=\"/home/wyh/SSF\"\n",
    "SAVED_ROOT=\"/media/disk1/wyh/SSF\"\n",
    "sys.path.append(PROJECT_ROOT)\n",
    "import torch\n",
    "import timm\n",
    "from timm.models import create_model, safe_model_name, resume_checkpoint, load_checkpoint,\\\n",
    "    convert_splitbn_model, model_parameters\n",
    "from models import vision_transformer, swin_transformer, convnext, as_mlp\n",
    "\n"
   ]
  },
  {
   "cell_type": "code",
   "execution_count": 32,
   "metadata": {},
   "outputs": [],
   "source": [
    "MODEL_NAME=\"vit_base_patch16_224_in21k\"\n",
    "MODEL_PATH=\"vit_base_patch16_224_in21k/cifar_100/ssf/20230521-144333-vit_base_patch16_224_in21k-224/model_best.pth.tar\"\n",
    "# 235\n",
    "MODEL_PATH=\"vit_base_patch16_224_in21k/cifar_100/ssf/20230523-171946-vit_base_patch16_224_in21k-224/model_best.pth.tar\"\n",
    "MODEL_PATH=\"vit_base_patch16_224_in21k/cifar_100/pruning/20230608-204025-vit_base_patch16_224_in21k-224/model_best.pth.tar\"\n",
    "MODEL_PATH=os.path.join(SAVED_ROOT,MODEL_PATH)\n",
    "MODEL_PATH=\"/media/disk1/wyh/SSF/vit_base_patch16_224_in21k/cifar_100/pruning_no_ema/20230608-234152-vit_base_patch16_224_in21k-224/checkpoint-90.pth.tar\"\n",
    "MODEL_PATH=\"/media/disk1/wyh/SSF/vit_base_patch16_224_in21k/cifar_100/pruning_no_ema/20230608-234152-vit_base_patch16_224_in21k-224/model_best.pth.tar\"\n",
    "MODEL_PATH=\"/media/disk1/wyh/SSF/vit_base_patch16_224_in21k/cifar_100/pruning_no_ema/20230608-234424-vit_base_patch16_224_in21k-224/model_best.pth.tar\"\n",
    "MODEL_PATH='/data/hjy/SSF/vit_base_patch16_224_in21k/vtab/pets/pets_2.73_221_0.1_0.01.pth.tar'\n",
    "# MODEL_PATH='/data/hjy/SSF/vit_base_patch16_224_in21k/vtab/pets/pruning_retrain_full/20230812-211342-vit_base_patch16_224_in21k-224/checkpoint-280.pth.tar'\n",
    "METHOD_NAME=\"ssf\"\n",
    "NUM_CLASSES=37"
   ]
  },
  {
   "cell_type": "code",
   "execution_count": 33,
   "metadata": {},
   "outputs": [],
   "source": [
    "\n",
    "model = create_model(\n",
    "    MODEL_NAME,\n",
    "    pretrained=True,\n",
    "    num_classes=NUM_CLASSES,\n",
    "    drop_rate=0.0,\n",
    "    drop_path_rate=0.0,\n",
    "    drop_block_rate=None,\n",
    "    global_pool=None,\n",
    "    bn_momentum=None,\n",
    "    bn_eps=None,\n",
    "    scriptable=False,\n",
    "    checkpoint_path='',\n",
    "    tuning_mode=METHOD_NAME)\n",
    "resume_epoch = resume_checkpoint(\n",
    "    model, MODEL_PATH,\n",
    "    optimizer=None,\n",
    "    loss_scaler=None,\n",
    "    log_info=True)\n"
   ]
  },
  {
   "cell_type": "code",
   "execution_count": 4,
   "metadata": {},
   "outputs": [],
   "source": [
    "# for i,(name,module) in enumerate(model.named_modules()) :\n",
    "#     # print(name)\n",
    "#     cw=False\n",
    "#     for m in module.children():\n",
    "#         if hasattr(m,\"weight\"):\n",
    "#             cw=True\n",
    "#     if cw:\n",
    "#     # if hasattr(module,\"weight\"):\n",
    "#         print(i,\"\\t\",name)\n",
    "#         print(\"PARAMETER: \")\n",
    "#         for n,p in module.named_parameters():\n",
    "#             print(n,\"\\t\",p.shape)\n",
    "#         print(\"DICT:\")\n",
    "#         # print(type(module.weight),module.weight.size())\n",
    "#         for k in module.__dict__:\n",
    "#             print(\"\\t\",k)\n",
    "# for j,(name,parameters) in enumerate(model.named_parameters()):\n",
    "#     key=[\"ssf_scale\",\"ssf_scale\"]\n",
    "#     if any([k in name for k in key]):\n",
    "#         print(\"{}\\t{}\\t{}\\t{}\".format(j,name,parameters.shape,parameters.data.shape))        \n",
    "    "
   ]
  },
  {
   "cell_type": "code",
   "execution_count": 35,
   "metadata": {},
   "outputs": [
    {
     "name": "stdout",
     "output_type": "stream",
     "text": [
      "MAX Scale:  3.541211\n",
      "MIN Scale:  -2.802487\n",
      "AVE Scale:  0.04294330928610473\n",
      "MAX Shift:  2.8979683\n",
      "MIN Shift:  -3.0752964\n",
      "AVE Shift:  -0.0042768097495824295\n"
     ]
    }
   ],
   "source": [
    "ssf_scale,ssf_shift={},{}\n",
    "for name, para in model.named_parameters():\n",
    "    if \"ssf_scale\" in name:\n",
    "        ssf_scale[name]=para.data.detach().cpu().numpy()\n",
    "    elif \"ssf_shift\" in name:\n",
    "        ssf_shift[name]=para.data.detach().cpu().numpy()\n",
    "    else:\n",
    "        pass\n",
    "print(\"MAX Scale: \", max([s.max() for s in ssf_scale_list]))\n",
    "print(\"MIN Scale: \", min([s.min() for s in ssf_scale_list]))\n",
    "print(\"AVE Scale: \", sum([sum(s) for s in ssf_scale_list])/sum([len(s) for s in ssf_scale_list]))\n",
    "print(\"MAX Shift: \", max([s.max() for s in ssf_shift_list]))\n",
    "print(\"MIN Shift: \", min([s.min() for s in ssf_shift_list]))\n",
    "print(\"AVE Shift: \", sum([sum(s) for s in ssf_shift_list])/sum([len(s) for s in ssf_shift_list]))"
   ]
  },
  {
   "cell_type": "code",
   "execution_count": null,
   "metadata": {},
   "outputs": [],
   "source": [
    "# show basic info of ssf_scale and ssf_shift:\n",
    "print(\"Length: \",len(ssf_scale),\"\\t\",len(ssf_shift))\n",
    "print(\"SSF_SCALE:\")\n",
    "for k in ssf_scale:\n",
    "    print(k,ssf_scale[k].shape)\n",
    "print(\"SSF_SHIFT:\")\n",
    "for k in ssf_shift:\n",
    "    print(k,ssf_shift[k].shape)"
   ]
  },
  {
   "cell_type": "code",
   "execution_count": 31,
   "metadata": {},
   "outputs": [
    {
     "name": "stdout",
     "output_type": "stream",
     "text": [
      "MAX Scale:  3.541211\n",
      "MIN Scale:  -2.802487\n",
      "AVE Scale:  0.04294330928610473\n",
      "MAX Shift:  2.8979683\n",
      "MIN Shift:  -3.0752964\n",
      "AVE Shift:  -0.0042768097495824295\n"
     ]
    }
   ],
   "source": [
    "import warnings\n",
    "warnings. filterwarnings(\"ignore\")\n",
    "import numpy as np\n",
    "import matplotlib.pyplot as plt\n",
    "import seaborn as sns\n",
    "import torch\n",
    "import torchvision.models as models\n",
    "\n",
    "def draw6(row1,name=None):\n",
    "    data=row1\n",
    "    arr = data\n",
    "    up_mean=np.mean(np.array([a.max() for a in arr]))\n",
    "    lw_mean=np.mean(np.array([a.min() for a in arr]))\n",
    "    num_rows = len(arr)\n",
    "    fig, axs = plt.subplots(ncols=num_rows, nrows=1, sharey=True,gridspec_kw={\"hspace\": 0, \"wspace\": 0})\n",
    "    fig.set_size_inches(20, 4)\n",
    "    lw=lw_mean*1.5 if lw_mean<0 else lw_mean*0.5\n",
    "    ran=(lw,up_mean*1.5)\n",
    "    ran=(lw,up_mean*1.5)\n",
    "    for i in range(num_rows):\n",
    "        # sns.histplot(y=arr[i], ax=axs[i], kde=True, stat=\"density\")\n",
    "        # sns.distplot(arr[i], ax=axs[i], kde=True, stat=\"density\",hist_kws={'range': (0.0, 0.2)})\n",
    "        color=\"blue\"\n",
    "        if arr[i].max() > up_mean*1.2 or arr[i].min() < lw_mean*0.8:\n",
    "            color=\"red\"\n",
    "        sns.distplot(arr[i], ax=axs[i], kde=True, vertical=True,color=color)\n",
    "        # sns.distplot(arr[i], ax=axs[i], kde=True, vertical=True,color=color,\\\n",
    "        #     hist_kws={'range': ran},kde_kws={'clip': ran})\n",
    "        # sns.histplot(data, clip=(0, 10))\n",
    "        axs[i].set_xticks([])\n",
    "        # axs[i].set_xlabel(f\"{i+1}\")\n",
    "        label=\"\"\n",
    "        if 'attn' in name[i]:\n",
    "            label+=\"a\"\n",
    "        elif 'mlp' in name[i]:\n",
    "            label+=\"m\"\n",
    "        else:\n",
    "            label+=\"b\"\n",
    "        label+=name[i].split(\"_\")[-1]\n",
    "        axs[i].set_xlabel(label)\n",
    "    plt.tight_layout()\n",
    "    # sns.set_style('white')\n",
    "    sns.set(style='whitegrid')\n",
    "    sns.despine(right=True,left=True)\n",
    "    plt.show()\n",
    "ssf_scale_list,ssf_shift_list,ssf_scale_name,ssf_shift_name=[],[],[],[]\n",
    "for name, para in model.named_parameters():\n",
    "    if \"ssf_scale\" in name:\n",
    "        ssf_scale_list.append(para.data.detach().cpu().numpy())\n",
    "        ssf_scale_name.append(name)\n",
    "    elif \"ssf_shift\" in name:\n",
    "        ssf_shift_list.append(para.data.detach().cpu().numpy())\n",
    "        ssf_shift_name.append(name)\n",
    "    else:\n",
    "        pass\n",
    "# draw6(ssf_scale_list,ssf_scale_name)\n",
    "# draw6(ssf_shift_list,ssf_shift_name)\n",
    "print(\"MAX Scale: \", max([s.max() for s in ssf_scale_list]))\n",
    "print(\"MIN Scale: \", min([s.min() for s in ssf_scale_list]))\n",
    "print(\"AVE Scale: \", sum([sum(s) for s in ssf_scale_list])/sum([len(s) for s in ssf_scale_list]))\n",
    "print(\"MAX Shift: \", max([s.max() for s in ssf_shift_list]))\n",
    "print(\"MIN Shift: \", min([s.min() for s in ssf_shift_list]))\n",
    "print(\"AVE Shift: \", sum([sum(s) for s in ssf_shift_list])/sum([len(s) for s in ssf_shift_list]))"
   ]
  },
  {
   "cell_type": "code",
   "execution_count": 25,
   "metadata": {},
   "outputs": [
    {
     "name": "stdout",
     "output_type": "stream",
     "text": [
      "0.00 Layer 0:\t369/768\t48.05%\n",
      "0.06 Layer 1:\t181/768\t23.57%\n",
      "0.09 Layer 2:\t324/768\t42.19%\n",
      "0.17 Layer 3:\t226/768\t29.43%\n",
      "0.09 Layer 4:\t882/2304\t38.28%\n",
      "0.02 Layer 5:\t190/768\t24.74%\n",
      "0.08 Layer 6:\t1106/3072\t36.00%\n",
      "0.02 Layer 7:\t187/768\t24.35%\n",
      "0.16 Layer 8:\t312/768\t40.62%\n",
      "0.21 Layer 9:\t265/768\t34.51%\n",
      "0.13 Layer 10:\t935/2304\t40.58%\n",
      "0.02 Layer 11:\t194/768\t25.26%\n",
      "0.03 Layer 12:\t1462/3072\t47.59%\n",
      "0.02 Layer 13:\t276/768\t35.94%\n",
      "0.06 Layer 14:\t310/768\t40.36%\n",
      "0.13 Layer 15:\t294/768\t38.28%\n",
      "0.06 Layer 16:\t1000/2304\t43.40%\n",
      "0.01 Layer 17:\t281/768\t36.59%\n",
      "0.03 Layer 18:\t1425/3072\t46.39%\n",
      "0.02 Layer 19:\t317/768\t41.28%\n",
      "0.05 Layer 20:\t327/768\t42.58%\n",
      "0.06 Layer 21:\t327/768\t42.58%\n",
      "0.05 Layer 22:\t966/2304\t41.93%\n",
      "0.02 Layer 23:\t291/768\t37.89%\n",
      "0.03 Layer 24:\t1327/3072\t43.20%\n",
      "0.02 Layer 25:\t337/768\t43.88%\n",
      "0.05 Layer 26:\t330/768\t42.97%\n",
      "0.07 Layer 27:\t328/768\t42.71%\n",
      "0.02 Layer 28:\t989/2304\t42.93%\n",
      "0.02 Layer 29:\t281/768\t36.59%\n",
      "0.03 Layer 30:\t1310/3072\t42.64%\n",
      "0.02 Layer 31:\t362/768\t47.14%\n",
      "0.05 Layer 32:\t304/768\t39.58%\n",
      "0.04 Layer 33:\t411/768\t53.52%\n",
      "0.06 Layer 34:\t1027/2304\t44.57%\n",
      "0.02 Layer 35:\t308/768\t40.10%\n",
      "0.03 Layer 36:\t1335/3072\t43.46%\n",
      "0.02 Layer 37:\t326/768\t42.45%\n",
      "0.05 Layer 38:\t293/768\t38.15%\n",
      "0.08 Layer 39:\t348/768\t45.31%\n",
      "0.05 Layer 40:\t950/2304\t41.23%\n",
      "0.02 Layer 41:\t289/768\t37.63%\n",
      "0.04 Layer 42:\t1214/3072\t39.52%\n",
      "0.02 Layer 43:\t310/768\t40.36%\n",
      "0.05 Layer 44:\t300/768\t39.06%\n",
      "0.14 Layer 45:\t323/768\t42.06%\n",
      "0.02 Layer 46:\t972/2304\t42.19%\n",
      "0.02 Layer 47:\t253/768\t32.94%\n",
      "0.03 Layer 48:\t1175/3072\t38.25%\n",
      "0.02 Layer 49:\t239/768\t31.12%\n",
      "0.05 Layer 50:\t265/768\t34.51%\n",
      "0.07 Layer 51:\t285/768\t37.11%\n",
      "0.01 Layer 52:\t926/2304\t40.19%\n",
      "0.02 Layer 53:\t276/768\t35.94%\n",
      "0.02 Layer 54:\t1439/3072\t46.84%\n",
      "0.02 Layer 55:\t165/768\t21.48%\n",
      "0.03 Layer 56:\t277/768\t36.07%\n",
      "0.13 Layer 57:\t251/768\t32.68%\n",
      "0.01 Layer 58:\t841/2304\t36.50%\n",
      "0.02 Layer 59:\t244/768\t31.77%\n",
      "0.03 Layer 60:\t1362/3072\t44.34%\n",
      "0.02 Layer 61:\t99/768\t12.89%\n",
      "0.04 Layer 62:\t301/768\t39.19%\n",
      "0.13 Layer 63:\t230/768\t29.95%\n",
      "0.02 Layer 64:\t899/2304\t39.02%\n",
      "0.02 Layer 65:\t181/768\t23.57%\n",
      "0.03 Layer 66:\t1418/3072\t46.16%\n",
      "0.02 Layer 67:\t82/768\t10.68%\n",
      "0.03 Layer 68:\t334/768\t43.49%\n",
      "0.25 Layer 69:\t289/768\t37.63%\n",
      "0.01 Layer 70:\t893/2304\t38.76%\n",
      "0.03 Layer 71:\t197/768\t25.65%\n",
      "0.03 Layer 72:\t1246/3072\t40.56%\n",
      "0.03 Layer 73:\t182/768\t23.70%\n",
      "Total:\t40770/102912\t39.62%\n"
     ]
    }
   ],
   "source": [
    "# print(\"MIN Scale: \", min([s.min() for s in ssf_scale_list]))\n",
    "# print(\"MAX Shift: \", max([s.max() for s in ssf_shift_list]))\n",
    "sc_num=0\n",
    "sc_pnm=0\n",
    "for i,(sc,sh) in enumerate(zip(ssf_scale_list,ssf_shift_list)):\n",
    "    # select indexes from sc, where abs value is less than 0.02\n",
    "    # indexes=np.where(np.abs(sc)<0.02)\n",
    "    indexes=np.argwhere(np.abs(sc)<0.01)\n",
    "    subsc=np.take(sc,indexes)\n",
    "    sc_pnm+=len(subsc)\n",
    "    sc_num+=len(sc)\n",
    "    subsh=np.take(sh,indexes)\n",
    "    \n",
    "    # subsh=np.take(sh,indexes)\n",
    "    print(\"{:.2f} Layer {}:\\t{}/{}\\t{:.2f}%\".format(np.abs(subsh).mean(), i,len(subsc),len(sc),len(subsc)/len(sc)*100))\n",
    "print(\"Total:\\t{}/{}\\t{:.2f}%\".format(sc_pnm,sc_num,sc_pnm/sc_num*100))"
   ]
  },
  {
   "cell_type": "code",
   "execution_count": 9,
   "metadata": {},
   "outputs": [],
   "source": [
    "# def print_outler(row1,name=None):\n",
    "#     data=row1\n",
    "#     arr = data\n",
    "#     up_mean=np.mean(np.array([a.max() for a in arr]))\n",
    "#     lw_mean=np.mean(np.array([a.min() for a in arr]))\n",
    "#     num_rows = len(arr)\n",
    "#     lw=lw_mean*1.5 if lw_mean<0 else lw_mean*0.5\n",
    "#     ran=(lw,up_mean*1.5)\n",
    "#     for i in range(len(row1)):\n",
    "#         if arr[i].max() > up_mean*1.2 or arr[i].min() < lw_mean*0.8:\n",
    "#             print(name[i])\n",
    "# print_outler(ssf_scale_list,ssf_scale_name)\n",
    "# print_outler(ssf_shift_list,ssf_shift_name)\n"
   ]
  },
  {
   "attachments": {},
   "cell_type": "markdown",
   "metadata": {},
   "source": [
    "# 运行计时\n",
    "5.23 00:35 开始运行 ./train_scripts/vit/cifar_vtab"
   ]
  },
  {
   "attachments": {},
   "cell_type": "markdown",
   "metadata": {},
   "source": []
  }
 ],
 "metadata": {
  "kernelspec": {
   "display_name": "ssfn",
   "language": "python",
   "name": "python3"
  },
  "language_info": {
   "codemirror_mode": {
    "name": "ipython",
    "version": 3
   },
   "file_extension": ".py",
   "mimetype": "text/x-python",
   "name": "python",
   "nbconvert_exporter": "python",
   "pygments_lexer": "ipython3",
   "version": "3.10.0"
  },
  "orig_nbformat": 4
 },
 "nbformat": 4,
 "nbformat_minor": 2
}
